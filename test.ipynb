{
 "cells": [
  {
   "cell_type": "markdown",
   "metadata": {},
   "source": [
    "test"
   ]
  },
  {
   "cell_type": "code",
   "execution_count": 1,
   "metadata": {},
   "outputs": [
    {
     "name": "stdout",
     "output_type": "stream",
     "text": [
      "Bienvenue au jeu de devinette !\n",
      "L'ordinateur a choisi un nombre entre 1 et 100.\n",
      "Veuillez entrer un nombre valide.\n",
      "Trop petit ! Essayez encore.\n",
      "Trop petit ! Essayez encore.\n",
      "Veuillez entrer un nombre valide.\n",
      "Trop petit ! Essayez encore.\n",
      "Trop petit ! Essayez encore.\n",
      "Trop petit ! Essayez encore.\n",
      "Trop grand ! Essayez encore.\n",
      "Veuillez entrer un nombre valide.\n",
      "Trop petit ! Essayez encore.\n",
      "Veuillez entrer un nombre valide.\n",
      "Trop petit ! Essayez encore.\n",
      "Trop petit ! Essayez encore.\n"
     ]
    }
   ],
   "source": [
    "import random\n",
    "\n",
    "def jeu_de_deviner():\n",
    "    # L'ordinateur choisit un nombre aléatoire entre 1 et 100\n",
    "    nombre_a_deviner = random.randint(1, 100)\n",
    "    essais = 0\n",
    "    trouve = False\n",
    "    \n",
    "    print(\"Bienvenue au jeu de devinette !\")\n",
    "    print(\"L'ordinateur a choisi un nombre entre 1 et 100.\")\n",
    "    \n",
    "    while not trouve:\n",
    "        # L'utilisateur propose un nombre\n",
    "        try:\n",
    "            proposition = int(input(\"Devinez le nombre : \"))\n",
    "            essais += 1\n",
    "            \n",
    "            if proposition < nombre_a_deviner:\n",
    "                print(\"Trop petit ! Essayez encore.\")\n",
    "            elif proposition > nombre_a_deviner:\n",
    "                print(\"Trop grand ! Essayez encore.\")\n",
    "            else:\n",
    "                print(f\"Félicitations ! Vous avez trouvé le nombre {nombre_a_deviner} en {essais} essais.\")\n",
    "                trouve = True\n",
    "        except ValueError:\n",
    "            print(\"Veuillez entrer un nombre valide.\")\n",
    "\n",
    "# Lancer le jeu\n",
    "jeu_de_deviner()"
   ]
  },
  {
   "cell_type": "code",
   "execution_count": 1,
   "metadata": {},
   "outputs": [
    {
     "name": "stdout",
     "output_type": "stream",
     "text": [
      "Erreur : le fichier '' n'a pas été trouvé. Essayez encore.\n",
      "Erreur : le fichier 'doc' n'a pas été trouvé. Essayez encore.\n",
      "Le mot 'python' apparaît 13 fois dans le fichier 'doc.txt'.\n"
     ]
    }
   ],
   "source": [
    "def compter_mots_python(nom_fichier):\n",
    "    try:\n",
    "        with open(nom_fichier, 'r', encoding='utf-8') as fichier:\n",
    "            contenu = fichier.read()\n",
    "            # Compte le nombre de fois que \"python\" apparaît (en minuscules)\n",
    "            compteur = contenu.lower().count(\"python\")\n",
    "            return compteur\n",
    "    except FileNotFoundError:\n",
    "        return None\n",
    "\n",
    "def main():\n",
    "    essais_max = 3\n",
    "    essais = 0\n",
    "\n",
    "    while essais < essais_max:\n",
    "        nom_fichier = input(\"Veuillez entrer le nom du fichier (avec .txt) : \")\n",
    "        compteur = compter_mots_python(nom_fichier)\n",
    "\n",
    "        if compteur is not None:\n",
    "            print(f\"Le mot 'python' apparaît {compteur} fois dans le fichier '{nom_fichier}'.\")\n",
    "            break  # Sortir de la boucle si le fichier a été lu avec succès\n",
    "        else:\n",
    "            essais += 1\n",
    "            print(f\"Erreur : le fichier '{nom_fichier}' n'a pas été trouvé. Essayez encore.\")\n",
    "\n",
    "    if essais == essais_max:\n",
    "        print(\"Vous avez atteint le nombre maximum d'essais. Le programme va quitter.\")\n",
    "\n",
    "if __name__ == \"__main__\":\n",
    "    main()\n"
   ]
  },
  {
   "cell_type": "code",
   "execution_count": 5,
   "metadata": {},
   "outputs": [
    {
     "name": "stdout",
     "output_type": "stream",
     "text": [
      "1\n",
      "1\n",
      "2\n",
      "2\n",
      "3\n",
      "fizz\n",
      "4\n",
      "4\n",
      "5\n",
      "buzz\n",
      "6\n",
      "fizz\n",
      "7\n",
      "7\n",
      "8\n",
      "8\n",
      "9\n",
      "fizz\n",
      "10\n",
      "buzz\n",
      "11\n",
      "11\n",
      "12\n",
      "fizz\n",
      "13\n",
      "13\n",
      "14\n",
      "14\n",
      "15\n",
      "fizz buzz\n",
      "16\n",
      "16\n",
      "17\n",
      "17\n",
      "18\n",
      "fizz\n",
      "19\n",
      "19\n"
     ]
    }
   ],
   "source": [
    "def fizz_buzz(n):\n",
    "    if n % 3 == 0 and n % 5 == 0:\n",
    "        return \"fizz buzz\"\n",
    "    elif n % 3 == 0:\n",
    "        return \"fizz\"\n",
    "    elif n % 5 == 0:\n",
    "        return \"buzz\"\n",
    "    else:\n",
    "        return str(n)\n",
    "\n",
    "# Exemple\n",
    "if __name__ == \"__main__\":\n",
    "    # Tester la fonction \n",
    "    for i in range(1, 20):\n",
    "        print(i)\n",
    "        print(fizz_buzz(i))\n"
   ]
  },
  {
   "cell_type": "code",
   "execution_count": 9,
   "metadata": {},
   "outputs": [
    {
     "name": "stdout",
     "output_type": "stream",
     "text": [
      "La somme harmonique jusqu'au 4-ième terme est : 2.083333333333333\n"
     ]
    }
   ],
   "source": [
    "def harmonic_sum(n):\n",
    "    # Vérification que n est strictement positif\n",
    "    if n <= 0:\n",
    "        raise ValueError(\"Le nombre doit être strictement positif.\")\n",
    "    \n",
    "    # Cas de base : si n est 1, la somme est simplement 1\n",
    "    if n == 1:\n",
    "        return 1\n",
    "    else:\n",
    "        # Récursion : 1/n + somme des n-1 termes\n",
    "        return 1/n + harmonic_sum(n-1)\n",
    "\n",
    "# Exemple d'utilisation\n",
    "if __name__ == \"__main__\":\n",
    "    try:\n",
    "        n = 4  # Vous pouvez changer ce nombre pour tester d'autres valeurs\n",
    "        result = harmonic_sum(n)\n",
    "        print(f\"La somme harmonique jusqu'au {n}-ième terme est : {result}\")\n",
    "    except ValueError as e:\n",
    "        print(e)\n"
   ]
  },
  {
   "cell_type": "code",
   "execution_count": null,
   "metadata": {},
   "outputs": [],
   "source": []
  }
 ],
 "metadata": {
  "kernelspec": {
   "display_name": "Python 3",
   "language": "python",
   "name": "python3"
  },
  "language_info": {
   "codemirror_mode": {
    "name": "ipython",
    "version": 3
   },
   "file_extension": ".py",
   "mimetype": "text/x-python",
   "name": "python",
   "nbconvert_exporter": "python",
   "pygments_lexer": "ipython3",
   "version": "3.13.0"
  }
 },
 "nbformat": 4,
 "nbformat_minor": 2
}
